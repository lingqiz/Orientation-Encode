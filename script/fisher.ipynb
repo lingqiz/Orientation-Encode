{
 "cells": [
  {
   "cell_type": "code",
   "execution_count": 1,
   "metadata": {},
   "outputs": [],
   "source": [
    "# imports\n",
    "import torch\n",
    "import scipy.stats as stats\n",
    "import numpy as np, matplotlib.pyplot as plt\n",
    "from analysis.ornt import *\n",
    "from tqdm.notebook import tqdm\n",
    "\n",
    "# use cpu or gpu as device\n",
    "device = 'cuda' if torch.cuda.is_available() else 'cpu'"
   ]
  },
  {
   "cell_type": "code",
   "execution_count": 2,
   "metadata": {},
   "outputs": [],
   "source": [
    "import seaborn as sns\n",
    "custom_params = {\"axes.spines.right\": False, \"axes.spines.top\": False}\n",
    "sns.set_theme(style=\"ticks\", rc=custom_params)\n",
    "\n",
    "import matplotlib as mpl\n",
    "mpl.rcParams['pdf.fonttype'] = 42\n",
    "mpl.rcParams['ps.fonttype'] = 42"
   ]
  },
  {
   "cell_type": "code",
   "execution_count": 3,
   "metadata": {},
   "outputs": [],
   "source": [
    "cond_label = ['Baseline',\n",
    "              'Surround 1',\n",
    "              'Surround 2']\n",
    "\n",
    "subs = ['TW', 'MT', 'CMH', 'CR', 'SO',\n",
    "        'BH', 'DW', 'QF', 'JM', 'MA']\n",
    "\n",
    "n_sub = len(subs)\n",
    "n_cond = 3\n",
    "cond_idx = 0 # baseline\n",
    "count = 1600 # (400 trials * 4 model average)\n",
    "model_type = 'avg'"
   ]
  },
  {
   "cell_type": "markdown",
   "metadata": {},
   "source": [
    "### Compute Fisher Information for Baseline"
   ]
  },
  {
   "cell_type": "markdown",
   "metadata": {},
   "source": [
    "Second derivative of log-likelihood"
   ]
  },
  {
   "cell_type": "code",
   "execution_count": 4,
   "metadata": {},
   "outputs": [],
   "source": [
    "# record FI values\n",
    "all_ornt = np.zeros((len(subs), count))\n",
    "all_snd = np.zeros((len(subs), count))"
   ]
  },
  {
   "cell_type": "code",
   "execution_count": 5,
   "metadata": {},
   "outputs": [
    {
     "data": {
      "application/vnd.jupyter.widget-view+json": {
       "model_id": "78afbcb6ddd34e678998e90344c8210a",
       "version_major": 2,
       "version_minor": 0
      },
      "text/plain": [
       "  0%|          | 0/10 [00:00<?, ?it/s]"
      ]
     },
     "metadata": {},
     "output_type": "display_data"
    }
   ],
   "source": [
    "for idx in tqdm(range(len(subs))):\n",
    "    sub_name = 'ORNT_' + subs[idx]\n",
    "    stim, beta = load_data(sub_name, model_type)\n",
    "    \n",
    "    stimulus = stim[cond_idx]\n",
    "    response = beta[cond_idx].T\n",
    "    \n",
    "    # compute the observed FI for each trial\n",
    "    ornt, _, snd = llhd_derivative(stimulus, response,\n",
    "                                        batchSize=20,\n",
    "                                        device=device,\n",
    "                                        pbar=False)\n",
    "    \n",
    "    # record values\n",
    "    all_ornt[idx] = ornt        \n",
    "    all_snd[idx] = snd"
   ]
  },
  {
   "cell_type": "markdown",
   "metadata": {},
   "source": [
    "Normalized Sqrt FI"
   ]
  },
  {
   "cell_type": "code",
   "execution_count": 6,
   "metadata": {},
   "outputs": [],
   "source": [
    "# change axis\n",
    "all_ornt[all_ornt > 90] -= 180\n",
    "\n",
    "# config the sliding average\n",
    "center = np.array([10, 20, 35, 50, 65, 80, 90])\n",
    "center = np.concatenate([-center[::-1], [0], center])\n",
    "window = 15\n",
    "config = {'center' : center, 'lb' : -90, 'ub' : 90,\n",
    "          'cyclical' : True, 'cycle' : 180}\n",
    "\n",
    "# sliding average\n",
    "axis, fi_avg = slide_average(all_ornt, all_snd, np.mean, window, config)\n",
    "error = slide_average(all_ornt, all_snd, np.std, window, config)[-1]\n",
    "n_data = slide_average(all_ornt, all_snd, np.size, window, config)[-1]\n",
    "\n",
    "# sem\n",
    "error = error / np.sqrt(n_data)"
   ]
  },
  {
   "cell_type": "code",
   "execution_count": 7,
   "metadata": {},
   "outputs": [],
   "source": [
    "# compute normalized fisher information\n",
    "convert = 180 / (2 * np.pi)\n",
    "\n",
    "theta = axis\n",
    "fisher = np.sqrt(-fi_avg)\n",
    "fi_error = error / (2 * fisher)\n",
    "\n",
    "scale = 1 / np.trapz(fisher, theta / convert)\n",
    "fisher *= (scale)\n",
    "fi_error *= (scale)"
   ]
  },
  {
   "cell_type": "markdown",
   "metadata": {},
   "source": [
    "Plotting"
   ]
  },
  {
   "cell_type": "code",
   "execution_count": 8,
   "metadata": {},
   "outputs": [
    {
     "data": {
      "image/png": "[encoded data removed]",
      "text/plain": [
       "<Figure size 450x400 with 1 Axes>"
      ]
     },
     "metadata": {},
     "output_type": "display_data"
    }
   ],
   "source": [
    "fig = plt.figure(figsize=(4.5, 4))\n",
    "\n",
    "# plot curve\n",
    "plt.errorbar(axis, fisher, fi_error, marker='o', color='r')\n",
    "\n",
    "xpos = [-45, 45]\n",
    "[plt.axvline(x, color='k', linestyle='--', alpha=0.5) for x in xpos]\n",
    "plt.axvline(0, color='k', linestyle='--')\n",
    "\n",
    "plt.xlim([-95, 95])\n",
    "plt.xticks(np.arange(-90, 91, 45))\n",
    "plt.xlabel('Orientation (deg)')\n",
    "plt.yticks([0.12, 0.14, 0.16, 0.18, 0.20, 0.22])\n",
    "plt.ylabel('Neural FI')\n",
    "\n",
    "plt.show()"
   ]
  }
 ],
 "metadata": {
  "kernelspec": {
   "display_name": "Python 3",
   "language": "python",
   "name": "python3"
  },
  "language_info": {
   "codemirror_mode": {
    "name": "ipython",
    "version": 3
   },
   "file_extension": ".py",
   "mimetype": "text/x-python",
   "name": "python",
   "nbconvert_exporter": "python",
   "pygments_lexer": "ipython3",
   "version": "3.10.12"
  }
 },
 "nbformat": 4,
 "nbformat_minor": 2
}
