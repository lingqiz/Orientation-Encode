version https://git-lfs.github.com/spec/v1
oid sha256:dbfeb2250028a11e463dc8df1a6c6e94aa43b5635a6c839f44679fa47ebf14e0
size 536497
