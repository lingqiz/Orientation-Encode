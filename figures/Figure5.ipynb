version https://git-lfs.github.com/spec/v1
oid sha256:16a692e1c963132a6c20607bd8c37dd44be9ff8bf4f476a9007274b6b5eeeece
size 837535
