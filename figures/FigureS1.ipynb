version https://git-lfs.github.com/spec/v1
oid sha256:84dc493e0c7a208533882eea41cfc5b1939d327a8528b388c075e8fd8c49981b
size 193777
