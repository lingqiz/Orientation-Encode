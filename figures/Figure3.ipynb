version https://git-lfs.github.com/spec/v1
oid sha256:0f2ab503e11e9bbc799bd4d751019a763fb70f484e2539c229446099df959307
size 561080
