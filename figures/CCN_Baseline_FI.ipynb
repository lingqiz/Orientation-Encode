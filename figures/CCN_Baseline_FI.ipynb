version https://git-lfs.github.com/spec/v1
oid sha256:2a72d30b8ed1af6d3a9b76096890a210b65e0198a45e77d1ea0360c83272d8ea
size 537718
