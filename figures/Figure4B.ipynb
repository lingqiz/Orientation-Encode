version https://git-lfs.github.com/spec/v1
oid sha256:0caa4e54e56743ce6e305ff69236ccbae2a87b3244f481682c91aef0781317df
size 490450
