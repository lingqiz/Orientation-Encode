version https://git-lfs.github.com/spec/v1
oid sha256:dc12bdc0aa7a24962cebaf405bf15e357de96b1083faa38c9a409a012e120156
size 490444
